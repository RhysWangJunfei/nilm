{
  "nbformat": 4,
  "nbformat_minor": 0,
  "metadata": {
    "colab": {
      "name": "ampds_cde.ipynb",
      "version": "0.3.2",
      "provenance": [],
      "include_colab_link": true
    },
    "kernelspec": {
      "name": "python3",
      "display_name": "Python 3"
    }
  },
  "cells": [
    {
      "cell_type": "markdown",
      "metadata": {
        "id": "view-in-github",
        "colab_type": "text"
      },
      "source": [
        "<a href=\"https://colab.research.google.com/github/RhysWangJunfei/nilm/blob/master/ampds_cde.ipynb\" target=\"_parent\"><img src=\"https://colab.research.google.com/assets/colab-badge.svg\" alt=\"Open In Colab\"/></a>"
      ]
    },
    {
      "metadata": {
        "id": "YR6U_iIt_P2z",
        "colab_type": "code",
        "colab": {}
      },
      "cell_type": "code",
      "source": [
        "import pandas as pd\n",
        "import tensorflow as tf\n",
        "import numpy as np\n",
        "import io\n",
        "from sklearn.preprocessing import OneHotEncoder\n",
        "from sklearn.preprocessing import MinMaxScaler\n",
        "from sklearn.model_selection import train_test_split \n",
        "from google.colab import files"
      ],
      "execution_count": 0,
      "outputs": []
    },
    {
      "metadata": {
        "id": "-E8b-zMV_SXW",
        "colab_type": "code",
        "colab": {}
      },
      "cell_type": "code",
      "source": [
        "'''Sliding window function'''\n",
        "def create_dataset(dataset, look_back=1):\n",
        "    dataX = []\n",
        "    for i in range(len(dataset)-look_back+1):\n",
        "        a = dataset[i:(i+look_back)]\n",
        "        dataX.append(a)\n",
        "    return np.array(dataX)"
      ],
      "execution_count": 0,
      "outputs": []
    },
    {
      "metadata": {
        "id": "ABrYmT54_UYL",
        "colab_type": "code",
        "colab": {
          "resources": {
            "http://localhost:8080/nbextensions/google.colab/files.js": {
              "data": "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",
              "ok": true,
              "headers": [
                [
                  "content-type",
                  "application/javascript"
                ]
              ],
              "status": 200,
              "status_text": "OK"
            }
          },
          "base_uri": "https://localhost:8080/",
          "height": 173
        },
        "outputId": "142b6454-df9f-497b-9ad3-d530b9d734b0"
      },
      "cell_type": "code",
      "source": [
        "uploaded = files.upload()\n",
        "'''Load data'''\n",
        "WHE_data = pd.read_csv(io.BytesIO(uploaded['Electricity_WHE.csv']))['P']\n",
        "uploaded = files.upload()\n",
        "CDE_data = pd.read_csv(io.BytesIO(uploaded['Electricity_CDE.csv']))['P']\n",
        "'''\n",
        "CDE_data = pd.read_csv(base_dir+'Electricity_CDE.csv')['P']\n",
        "CWE_data = pd.read_csv(base_dir+'Electricity_CWE.csv')['P']\n",
        "DWE_data = pd.read_csv(base_dir+'Electricity_DWE.csv')['P']\n",
        "FRE_data = pd.read_csv(base_dir+'Electricity_FRE.csv')['P']\n",
        "HPE_data = pd.read_csv(base_dir+'Electricity_HPE.csv')['P']\n",
        "HTE_data = pd.read_csv(base_dir+'Electricity_HTE.csv')['P']\n",
        "'''"
      ],
      "execution_count": 6,
      "outputs": [
        {
          "output_type": "display_data",
          "data": {
            "text/html": [
              "\n",
              "     <input type=\"file\" id=\"files-a9966fc5-2de7-4d19-8d1b-48b7f1291978\" name=\"files[]\" multiple disabled />\n",
              "     <output id=\"result-a9966fc5-2de7-4d19-8d1b-48b7f1291978\">\n",
              "      Upload widget is only available when the cell has been executed in the\n",
              "      current browser session. Please rerun this cell to enable.\n",
              "      </output>\n",
              "      <script src=\"/nbextensions/google.colab/files.js\"></script> "
            ],
            "text/plain": [
              "<IPython.core.display.HTML object>"
            ]
          },
          "metadata": {
            "tags": []
          }
        },
        {
          "output_type": "stream",
          "text": [
            "Saving Electricity_WHE.csv to Electricity_WHE.csv\n"
          ],
          "name": "stdout"
        },
        {
          "output_type": "display_data",
          "data": {
            "text/html": [
              "\n",
              "     <input type=\"file\" id=\"files-a06f77d1-dfcb-4ceb-8b75-9119a4542cd2\" name=\"files[]\" multiple disabled />\n",
              "     <output id=\"result-a06f77d1-dfcb-4ceb-8b75-9119a4542cd2\">\n",
              "      Upload widget is only available when the cell has been executed in the\n",
              "      current browser session. Please rerun this cell to enable.\n",
              "      </output>\n",
              "      <script src=\"/nbextensions/google.colab/files.js\"></script> "
            ],
            "text/plain": [
              "<IPython.core.display.HTML object>"
            ]
          },
          "metadata": {
            "tags": []
          }
        },
        {
          "output_type": "stream",
          "text": [
            "Saving Electricity_CDE.csv to Electricity_CDE.csv\n"
          ],
          "name": "stdout"
        },
        {
          "output_type": "execute_result",
          "data": {
            "text/plain": [
              "\"\\nCDE_data = pd.read_csv(base_dir+'Electricity_CDE.csv')['P']\\nCWE_data = pd.read_csv(base_dir+'Electricity_CWE.csv')['P']\\nDWE_data = pd.read_csv(base_dir+'Electricity_DWE.csv')['P']\\nFRE_data = pd.read_csv(base_dir+'Electricity_FRE.csv')['P']\\nHPE_data = pd.read_csv(base_dir+'Electricity_HPE.csv')['P']\\nHTE_data = pd.read_csv(base_dir+'Electricity_HTE.csv')['P']\\n\""
            ]
          },
          "metadata": {
            "tags": []
          },
          "execution_count": 6
        }
      ]
    },
    {
      "metadata": {
        "id": "X9bRBWac_mHu",
        "colab_type": "code",
        "colab": {}
      },
      "cell_type": "code",
      "source": [
        "window_size=60\n",
        "\n",
        "dataX = create_dataset(WHE_data.as_matrix(), window_size)\n",
        "\n",
        "#1-100,101-200,200-500,500+\n",
        "\n",
        "cde_Y = CDE_data[window_size-1:].values.reshape([CDE_data.shape[0]-window_size+1,1])\n",
        "categorized_cde_Y = np.zeros(cde_Y.shape)\n",
        "categorized_cde_Y[[np.where(cde_Y>500)[0]],:]=4\n",
        "categorized_cde_Y[[np.where((cde_Y>200)&(cde_Y<500))[0]],:]=3\n",
        "categorized_cde_Y[[np.where((cde_Y>100)&(cde_Y<200))[0]],:]=2\n",
        "categorized_cde_Y[[np.where((cde_Y>1)&(cde_Y<100))[0]],:]=1\n",
        "cdeY=categorized_cde_Y[categorized_cde_Y>0].reshape(-1,1)\n",
        "cdeX=dataX[[np.where(categorized_cde_Y>0)[0]],:][0]\n",
        "\n",
        "\n",
        "encoder = OneHotEncoder(handle_unknown='ignore',sparse=False)\n",
        "cdeY_1hot = encoder.fit_transform(cdeY)\n",
        "\n",
        "X_train, X_test, y_train, y_test = train_test_split(cdeX, cdeY_1hot, test_size=0.1, shuffle=True)\n",
        "scaler = MinMaxScaler()\n",
        "scaler.fit(X_train.astype(float))\n",
        "X_train = scaler.transform(X_train)\n",
        "X_test = scaler.transform(X_test)"
      ],
      "execution_count": 0,
      "outputs": []
    },
    {
      "metadata": {
        "id": "BJhZJcATH4ax",
        "colab_type": "code",
        "colab": {}
      },
      "cell_type": "code",
      "source": [
        "'''Hyper parameters for deep learning'''\n",
        "# Hyper Parameters\n",
        "LR = 0.001               # learning rate\n",
        "#cfg_list = nf.model_configs()\n",
        "#error_list = []\n",
        "\n",
        "#hyperparameters\n",
        "batch_size=512\n",
        "unit_num=128"
      ],
      "execution_count": 0,
      "outputs": []
    },
    {
      "metadata": {
        "id": "z9nSbtUdH8tw",
        "colab_type": "code",
        "colab": {
          "base_uri": "https://localhost:8080/",
          "height": 92
        },
        "outputId": "ede54068-6094-42d0-a9ce-b26b000e33be"
      },
      "cell_type": "code",
      "source": [
        "'''RNN Model Definition'''\n",
        "#define inputs\n",
        "tf_x = tf.placeholder(tf.float32, [None, window_size,1])\n",
        "tf_y = tf.placeholder(tf.int32, [None, 4])\n",
        "#Transform from 3d to 2d\n",
        "#X = tf.reshape(tf_x, [-1, 1])\n",
        "#X = tf.reshape(tf_x, [-1, window_size])\n",
        "\n",
        "\n",
        "'''\n",
        "add_layer('l1',X,window_size, 128, activation_function=tf.nn.sigmoid)\n",
        "l2 = add_layer('l2',l1, 128,32 , activation_function=tf.nn.sigmoid)\n",
        "l3 = add_layer('l3',l2, 32,8 , activation_function=tf.nn.sigmoid)\n",
        "pred = add_layer('l4',l3, 8,1 , activation_function=None)\n",
        "'''\n",
        "#X_in = tf.reshape(tf_x, [-1, 1])\n",
        "lstm_cell =tf.contrib.rnn.BasicLSTMCell(num_units=unit_num)\n",
        "outputs, (h_c, h_n) = tf.nn.dynamic_rnn(\n",
        "    lstm_cell,                   # cell you have chosen\n",
        "    tf_x,                      # input\n",
        "    initial_state=None,         # the initial hidden state\n",
        "    dtype=tf.float32,           # must given if set initial_state = None\n",
        "    time_major=False,           # False: (batch, time step, input); True: (time step, batch, input)\n",
        ")\n",
        "l1 = tf.layers.dense(outputs[:, -1, :],64,activation=tf.nn.leaky_relu)\n",
        "l2 = tf.layers.dense(l1,32,activation=tf.nn.leaky_relu)\n",
        "l3 = tf.layers.dense(l2,16,activation=tf.nn.leaky_relu)\n",
        "#l4 = tf.layers.dense(l3,8,activation=tf.nn.leaky_relu)\n",
        "#l5 = tf.layers.dense(l4,4,activation=tf.nn.leaky_relu)\n",
        "#l6 = tf.layers.dense(l5,32,activation=tf.nn.leaky_relu)\n",
        "#l7 = tf.layers.dense(l2,8,activation=tf.nn.leaky_relu)\n",
        "pred = tf.layers.dense(l3,4,activation=tf.nn.relu)\n",
        "#pred = add_layer('dense_1',outputs[:, -1, :], unit_num, 1, activation_function=tf.nn.leaky_relu)\n",
        "'''\n",
        "#dense_2 = add_layer('dense_2',dense_1, 32, 16, activation_function=tf.nn.leaky_relu)\n",
        "#dense_3 = add_layer('dense_3',dense_2, 16, 4, activation_function=tf.nn.leaky_relu)\n",
        "#dense_4 = add_layer('dense_4',dense_1, 1024, 512, activation_function=tf.nn.relu)\n",
        "#dense_5 = add_layer('dense_5',dense_4, 512, 256, activation_function=tf.nn.relu)\n",
        "#dense_6 = add_layer('dense_6',dense_5, 256, 128, activation_function=tf.nn.relu)\n",
        "#dense_7 = add_layer('dense_7',dense_1, 128, 64, activation_function=tf.nn.relu)\n",
        "#dense_8 = add_layer('dense_8',dense_7, 64, 16, activation_function=tf.nn.relu)\n",
        "#dense_9 = add_layer('dense_9',dense_1, 8, 4, activation_function=tf.nn.relu)\n",
        "#pred = add_layer('output', dense_3,4, 1, activation_function=None)\n",
        "'''\n",
        "with tf.name_scope('loss'):\n",
        "    cross_entropy =  tf.nn.softmax_cross_entropy_with_logits_v2(labels=tf_y, logits=pred) \n",
        "    loss = tf.reduce_mean(cross_entropy)\n",
        "    tf.summary.scalar(\"loss\",tensor=loss)\n",
        "\n",
        "train_op = tf.train.AdamOptimizer(LR).minimize(loss)\n",
        "\n",
        "accuracy = tf.metrics.accuracy(          # return (acc, update_op), and create 2 local variables\n",
        "    labels=tf.argmax(tf_y, axis=1), predictions=tf.argmax(pred, axis=1),)[1]\n",
        "\n",
        "'''\n",
        "gvs = optimizer.compute_gradients(loss)\n",
        "capped_gvs = [(tf.clip_by_value(grad, -1., 1.), var) for grad, var in gvs]\n",
        "train_op = optimizer.apply_gradients(capped_gvs) \n",
        "'''\n",
        "init_op = tf.group(tf.global_variables_initializer(), tf.local_variables_initializer()) \n",
        "sess = tf.Session()\n",
        "sess.run(init_op)\n",
        "merged = tf.summary.merge_all()\n",
        "writer = tf.summary.FileWriter(\"logss/\", sess.graph) # tensorflow >=0.12"
      ],
      "execution_count": 9,
      "outputs": [
        {
          "output_type": "stream",
          "text": [
            "WARNING:tensorflow:From <ipython-input-9-711fa79bee3c>:17: BasicLSTMCell.__init__ (from tensorflow.python.ops.rnn_cell_impl) is deprecated and will be removed in a future version.\n",
            "Instructions for updating:\n",
            "This class is deprecated, please use tf.nn.rnn_cell.LSTMCell, which supports all the feature this cell currently has. Please replace the existing code with tf.nn.rnn_cell.LSTMCell(name='basic_lstm_cell').\n"
          ],
          "name": "stdout"
        }
      ]
    },
    {
      "metadata": {
        "id": "uYaNNydtIE1i",
        "colab_type": "code",
        "colab": {
          "base_uri": "https://localhost:8080/",
          "height": 2074
        },
        "outputId": "32a1c055-7d7f-40e2-f7c4-9a75008b50a5"
      },
      "cell_type": "code",
      "source": [
        "batch_num = len(X_train)//batch_size\n",
        "for j in range(0,5000):\n",
        "    print('###epoch: '+str(j)+'###')\n",
        "    for i in range(0,batch_num+1):\n",
        "        if(i!=batch_num):\n",
        "            batch_X = X_train[i*batch_size:(i+1)*batch_size,].reshape([batch_size,window_size,1])\n",
        "            batch_Y = y_train[i*batch_size:(i+1)*batch_size,]\n",
        "        else: \n",
        "            batch_X = X_train[-batch_size:].reshape([batch_size,window_size,1])\n",
        "            batch_Y = y_train[-batch_size:,]\n",
        "        sess.run(train_op,{tf_x:batch_X,tf_y:batch_Y})\n",
        "        cost_ = sess.run(loss, {tf_x: batch_X, tf_y:batch_Y})\n",
        "        acc = sess.run(accuracy,{tf_x: batch_X, tf_y:batch_Y})\n",
        "        \n",
        "        if i%10 == 0:\n",
        "            rs = sess.run(merged,feed_dict={tf_x: batch_X, tf_y:batch_Y})\n",
        "            pre = sess.run(pred,feed_dict={tf_x: batch_X, tf_y:batch_Y})\n",
        "            writer.add_summary(rs, i+j*batch_num)\n",
        "            y_lables_argmax = tf.argmax(tf_y,axis=1)  \n",
        "            y_pred_argmax = tf.argmax(pre,axis=1)\n",
        "            print('###Batch: '+str(i)+': train loss= %.4f' % cost_+', Acc=%.2f'% acc)\n",
        "            if acc>0.95:\n",
        "              save_path = saver.save(sess, \"my_net/save_net_rnn.ckpt\")\n",
        "              if acc>0.985:\n",
        "                break\n",
        "loss = sess.run(loss, feed_dict={tf_x: X_test.reshape([X_test.shape[0],window_size,1]), tf_y:y_test})\n",
        "pre = sess.run(pred,feed_dict={tf_x: X_test.reshape([X_test.shape[0],window_size,1]), tf_y: y_test})\n",
        "print('test accuracy: %.2f'% loss)\n",
        "print(y_test)\n",
        "print(pre)\n",
        "sess.close()\n"
      ],
      "execution_count": 0,
      "outputs": [
        {
          "output_type": "stream",
          "text": [
            "###epoch: 0###\n",
            "###Batch: 0: train loss= 1.3846, Acc=0.30\n",
            "###Batch: 10: train loss= 1.3204, Acc=0.32\n",
            "###Batch: 20: train loss= 1.2772, Acc=0.34\n",
            "###Batch: 30: train loss= 1.1936, Acc=0.36\n",
            "###epoch: 1###\n",
            "###Batch: 0: train loss= 1.2120, Acc=0.38\n",
            "###Batch: 10: train loss= 1.0406, Acc=0.43\n",
            "###Batch: 20: train loss= 0.7255, Acc=0.49\n",
            "###Batch: 30: train loss= 0.5797, Acc=0.53\n",
            "###epoch: 2###\n",
            "###Batch: 0: train loss= 0.4863, Acc=0.56\n",
            "###Batch: 10: train loss= 0.4541, Acc=0.59\n",
            "###Batch: 20: train loss= 0.4358, Acc=0.62\n",
            "###Batch: 30: train loss= 0.3835, Acc=0.64\n",
            "###epoch: 3###\n",
            "###Batch: 0: train loss= 0.3177, Acc=0.65\n",
            "###Batch: 10: train loss= 0.3675, Acc=0.67\n",
            "###Batch: 20: train loss= 0.3183, Acc=0.69\n",
            "###Batch: 30: train loss= 0.2738, Acc=0.70\n",
            "###epoch: 4###\n",
            "###Batch: 0: train loss= 0.2261, Acc=0.71\n",
            "###Batch: 10: train loss= 0.2235, Acc=0.73\n",
            "###Batch: 20: train loss= 0.2111, Acc=0.74\n",
            "###Batch: 30: train loss= 0.2181, Acc=0.75\n",
            "###epoch: 5###\n",
            "###Batch: 0: train loss= 0.1539, Acc=0.76\n",
            "###Batch: 10: train loss= 0.1502, Acc=0.77\n",
            "###Batch: 20: train loss= 0.1540, Acc=0.78\n",
            "###Batch: 30: train loss= 0.1191, Acc=0.79\n",
            "###epoch: 6###\n",
            "###Batch: 0: train loss= 0.1187, Acc=0.79\n",
            "###Batch: 10: train loss= 0.1281, Acc=0.80\n",
            "###Batch: 20: train loss= 0.1327, Acc=0.81\n",
            "###Batch: 30: train loss= 0.1079, Acc=0.81\n",
            "###epoch: 7###\n",
            "###Batch: 0: train loss= 0.1055, Acc=0.82\n",
            "###Batch: 10: train loss= 0.1213, Acc=0.82\n",
            "###Batch: 20: train loss= 0.1242, Acc=0.83\n",
            "###Batch: 30: train loss= 0.1025, Acc=0.83\n",
            "###epoch: 8###\n",
            "###Batch: 0: train loss= 0.0985, Acc=0.84\n",
            "###Batch: 10: train loss= 0.1159, Acc=0.84\n",
            "###Batch: 20: train loss= 0.1231, Acc=0.84\n",
            "###Batch: 30: train loss= 0.1029, Acc=0.85\n",
            "###epoch: 9###\n",
            "###Batch: 0: train loss= 0.0914, Acc=0.85\n",
            "###Batch: 10: train loss= 0.1079, Acc=0.85\n",
            "###Batch: 20: train loss= 0.1112, Acc=0.86\n",
            "###Batch: 30: train loss= 0.1035, Acc=0.86\n",
            "###epoch: 10###\n",
            "###Batch: 0: train loss= 0.0850, Acc=0.86\n",
            "###Batch: 10: train loss= 0.1008, Acc=0.87\n",
            "###Batch: 20: train loss= 0.1064, Acc=0.87\n",
            "###Batch: 30: train loss= 0.1025, Acc=0.87\n",
            "###epoch: 11###\n",
            "###Batch: 0: train loss= 0.0825, Acc=0.87\n",
            "###Batch: 10: train loss= 0.1028, Acc=0.88\n",
            "###Batch: 20: train loss= 0.1085, Acc=0.88\n",
            "###Batch: 30: train loss= 0.1057, Acc=0.88\n",
            "###epoch: 12###\n",
            "###Batch: 0: train loss= 0.0829, Acc=0.88\n",
            "###Batch: 10: train loss= 0.1058, Acc=0.88\n",
            "###Batch: 20: train loss= 0.1136, Acc=0.89\n",
            "###Batch: 30: train loss= 0.1091, Acc=0.89\n",
            "###epoch: 13###\n",
            "###Batch: 0: train loss= 0.0798, Acc=0.89\n",
            "###Batch: 10: train loss= 0.1076, Acc=0.89\n",
            "###Batch: 20: train loss= 0.1182, Acc=0.89\n",
            "###Batch: 30: train loss= 0.1099, Acc=0.89\n",
            "###epoch: 14###\n",
            "###Batch: 0: train loss= 0.0764, Acc=0.90\n",
            "###Batch: 10: train loss= 0.1098, Acc=0.90\n",
            "###Batch: 20: train loss= 0.1268, Acc=0.90\n",
            "###Batch: 30: train loss= 0.1092, Acc=0.90\n",
            "###epoch: 15###\n",
            "###Batch: 0: train loss= 0.0882, Acc=0.90\n",
            "###Batch: 10: train loss= 0.1078, Acc=0.90\n",
            "###Batch: 20: train loss= 0.1302, Acc=0.90\n",
            "###Batch: 30: train loss= 0.0979, Acc=0.91\n",
            "###epoch: 16###\n",
            "###Batch: 0: train loss= 0.0743, Acc=0.91\n",
            "###Batch: 10: train loss= 0.1022, Acc=0.91\n",
            "###Batch: 20: train loss= 0.1003, Acc=0.91\n",
            "###Batch: 30: train loss= 0.0903, Acc=0.91\n",
            "###epoch: 17###\n",
            "###Batch: 0: train loss= 0.0717, Acc=0.91\n",
            "###Batch: 10: train loss= 0.0983, Acc=0.91\n",
            "###Batch: 20: train loss= 0.1087, Acc=0.91\n",
            "###Batch: 30: train loss= 0.0752, Acc=0.91\n",
            "###epoch: 18###\n",
            "###Batch: 0: train loss= 0.0626, Acc=0.91\n",
            "###Batch: 10: train loss= 0.0851, Acc=0.92\n",
            "###Batch: 20: train loss= 0.0963, Acc=0.92\n",
            "###Batch: 30: train loss= 0.0710, Acc=0.92\n",
            "###epoch: 19###\n",
            "###Batch: 0: train loss= 0.0576, Acc=0.92\n",
            "###Batch: 10: train loss= 0.0794, Acc=0.92\n",
            "###Batch: 20: train loss= 0.0969, Acc=0.92\n",
            "###Batch: 30: train loss= 0.0681, Acc=0.92\n",
            "###epoch: 20###\n",
            "###Batch: 0: train loss= 0.0595, Acc=0.92\n",
            "###Batch: 10: train loss= 0.0799, Acc=0.92\n",
            "###Batch: 20: train loss= 0.0856, Acc=0.92\n",
            "###Batch: 30: train loss= 0.0673, Acc=0.92\n",
            "###epoch: 21###\n",
            "###Batch: 0: train loss= 0.0539, Acc=0.92\n",
            "###Batch: 10: train loss= 0.0820, Acc=0.93\n",
            "###Batch: 20: train loss= 0.0820, Acc=0.93\n",
            "###Batch: 30: train loss= 0.0665, Acc=0.93\n",
            "###epoch: 22###\n",
            "###Batch: 0: train loss= 0.0517, Acc=0.93\n"
          ],
          "name": "stdout"
        }
      ]
    }
  ]
}
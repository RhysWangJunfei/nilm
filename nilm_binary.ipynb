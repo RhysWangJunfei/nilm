{
  "nbformat": 4,
  "nbformat_minor": 0,
  "metadata": {
    "colab": {
      "name": "nilm_binary.ipynb",
      "version": "0.3.2",
      "provenance": [],
      "include_colab_link": true
    },
    "kernelspec": {
      "name": "python3",
      "display_name": "Python 3"
    }
  },
  "cells": [
    {
      "cell_type": "markdown",
      "metadata": {
        "id": "view-in-github",
        "colab_type": "text"
      },
      "source": [
        "<a href=\"https://colab.research.google.com/github/RhysWangJunfei/nilm/blob/master/nilm_binary.ipynb\" target=\"_parent\"><img src=\"https://colab.research.google.com/assets/colab-badge.svg\" alt=\"Open In Colab\"/></a>"
      ]
    },
    {
      "metadata": {
        "id": "z5CkpPLrynl8",
        "colab_type": "code",
        "colab": {}
      },
      "cell_type": "code",
      "source": [
        "import io\n",
        "from google.colab import files\n",
        "import pandas as pd\n",
        "import tensorflow as tf\n",
        "import numpy as np\n",
        "from sklearn.preprocessing import MinMaxScaler\n",
        "from sklearn.model_selection import train_test_split \n",
        "from sklearn.ensemble import GradientBoostingClassifier as gbdt\n",
        "\n",
        "'''Sliding window function'''\n",
        "def create_dataset(dataset, look_back=1):\n",
        "    dataX = []\n",
        "    for i in range(len(dataset)-look_back+1):\n",
        "        a = dataset[i:(i+look_back)]\n",
        "        dataX.append(a)\n",
        "    return np.array(dataX)\n"
      ],
      "execution_count": 0,
      "outputs": []
    },
    {
      "metadata": {
        "id": "e_chpErBHu-z",
        "colab_type": "code",
        "colab": {}
      },
      "cell_type": "code",
      "source": [
        "uploaded = files.upload()\n",
        "'''Load data'''\n",
        "WHE_data = pd.read_csv(io.BytesIO(uploaded['Electricity_WHE.csv']))[['unix_ts','P']]\n",
        "uploaded = files.upload()\n",
        "CWE_data = pd.read_csv(io.BytesIO(uploaded['Electricity_CWE.csv']))['P']"
      ],
      "execution_count": 0,
      "outputs": []
    },
    {
      "metadata": {
        "id": "b_LBAwZ2Hy0B",
        "colab_type": "code",
        "colab": {}
      },
      "cell_type": "code",
      "source": [
        "WHE_data['datetime'] = pd.to_datetime(WHE_data['unix_ts'],unit='s')\n",
        "WHE_data = WHE_data.drop(['unix_ts'],axis=1)\n",
        "\n",
        "WHE_data['month'] = WHE_data['datetime'].dt.month\n",
        "WHE_data['hour'] = WHE_data['datetime'].dt.hour\n",
        "WHE_data['weekday'] = WHE_data['datetime'].dt.dayofweek\n",
        "WHE_data['quarter'] = WHE_data['datetime'].dt.quarter"
      ],
      "execution_count": 0,
      "outputs": []
    },
    {
      "metadata": {
        "id": "ePwqb5N90FmQ",
        "colab_type": "code",
        "colab": {}
      },
      "cell_type": "code",
      "source": [
        "window_size=10\n",
        "'''Using sliding window to build training examples'''\n",
        "time_data = create_dataset(WHE_data['P'].as_matrix(), window_size)\n",
        "\n",
        "data_month = WHE_data['month'].as_matrix()[window_size-1:].reshape([-1,1])\n",
        "data_hour = WHE_data['hour'].as_matrix()[window_size-1:].reshape([-1,1])\n",
        "data_weekday = WHE_data['weekday'].as_matrix()[window_size-1:].reshape([-1,1])\n",
        "dataX = np.hstack([time_data,data_month,data_hour,data_weekday])\n",
        "\n",
        "print(1)\n",
        "#get y for the single load\n",
        "cwe_Y = CWE_data[window_size-1:].values.reshape([CWE_data.shape[0]-window_size+1,1])\n",
        "cweY=cwe_Y[cwe_Y>0].reshape(-1,1)\n",
        "cweX=dataX[[np.where(cwe_Y>0)[0]],:][0]\n",
        "\n",
        "X_train, X_test, y_train, y_test = train_test_split(dataX, cwe_Y, test_size=0.2, shuffle=True)\n",
        "scaler = MinMaxScaler()\n",
        "scaler.fit(X_train)\n",
        "X_test = scaler.transform(X_test)\n"
      ],
      "execution_count": 0,
      "outputs": []
    },
    {
      "metadata": {
        "id": "JQlvwZpP0Ks_",
        "colab_type": "code",
        "colab": {}
      },
      "cell_type": "code",
      "source": [
        "cls = gbdt()\n",
        "cls.fit(X_train,y_train)\n",
        "y_pre = cls.pre(X_test)"
      ],
      "execution_count": 0,
      "outputs": []
    },
    {
      "metadata": {
        "id": "JxH_CiMJz-p9",
        "colab_type": "code",
        "colab": {}
      },
      "cell_type": "code",
      "source": [
        "acc = y_pre*y_test\n",
        "print(acc)"
      ],
      "execution_count": 0,
      "outputs": []
    },
    {
      "metadata": {
        "id": "9djneZkxz-Wo",
        "colab_type": "text"
      },
      "cell_type": "markdown",
      "source": [
        ""
      ]
    }
  ]
}